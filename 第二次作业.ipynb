{
 "cells": [
  {
   "cell_type": "code",
   "execution_count": 11,
   "id": "e3cad3eb",
   "metadata": {},
   "outputs": [
    {
     "name": "stdout",
     "output_type": "stream",
     "text": [
      "4.5175395145262565\n"
     ]
    }
   ],
   "source": [
    "H0=100\n",
    "g=9.8\n",
    "def A(H):\n",
    "    t=(2*H/g)**0.5\n",
    "    return t\n",
    "# 求解时间和高度的关系式\n",
    "print(A(H0))\n",
    "# 第一次掉落花费的时间"
   ]
  },
  {
   "cell_type": "code",
   "execution_count": 12,
   "id": "84cfa45a",
   "metadata": {},
   "outputs": [
    {
     "name": "stdout",
     "output_type": "stream",
     "text": [
      "0.09765625 299.70703125 25.507332660965766\n"
     ]
    }
   ],
   "source": [
    "H = [0 for i in range(11)]\n",
    "S = [0 for i in range(11)]\n",
    "t = [0 for i in range(11)]\n",
    "V = [0 for i in range(11)]\n",
    "H[0] = H0\n",
    "for i in range(1,11):\n",
    "    H[i]=H[0]*(0.5**i)\n",
    "#     第i次的高度\n",
    "    S[i]=H[i]+H[i-1]\n",
    "#     第i次的路程\n",
    "    t[i] = A(H[i-1])+(H[i-1]/g)**0.5\n",
    "#     第i次的时间\n",
    "print(H[10],sum(S),sum(t))"
   ]
  },
  {
   "cell_type": "code",
   "execution_count": 13,
   "id": "eadafa5c",
   "metadata": {},
   "outputs": [
    {
     "name": "stdout",
     "output_type": "stream",
     "text": [
      "0.0244140625 299.9267578125 25.918741252271666\n"
     ]
    }
   ],
   "source": [
    "n=12\n",
    "# 输入一个n值\n",
    "H = [0 for n in range(n+1)]\n",
    "S = [0 for n in range(n+1)]\n",
    "t = [0 for n in range(n+1)]\n",
    "V = [0 for n in range(n+1)]\n",
    "H[0] = H0\n",
    "for i in range(1,n+1):\n",
    "    H[i]=H[0]*(0.5**i)\n",
    "    S[i]=H[i]+H[i-1]\n",
    "    t[i] = A(H[i-1])+(H[i-1]/g)**0.5\n",
    "print(H[n],sum(S),sum(t))"
   ]
  }
 ],
 "metadata": {
  "kernelspec": {
   "display_name": "Python 3 (ipykernel)",
   "language": "python",
   "name": "python3"
  },
  "language_info": {
   "codemirror_mode": {
    "name": "ipython",
    "version": 3
   },
   "file_extension": ".py",
   "mimetype": "text/x-python",
   "name": "python",
   "nbconvert_exporter": "python",
   "pygments_lexer": "ipython3",
   "version": "3.7.12"
  }
 },
 "nbformat": 4,
 "nbformat_minor": 5
}
